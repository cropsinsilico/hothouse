{
 "cells": [
  {
   "cell_type": "code",
   "execution_count": 1,
   "metadata": {},
   "outputs": [],
   "source": [
    "import hothouse\n",
    "import numpy as np\n",
    "from hothouse.datasets import PLANTS\n",
    "from hothouse.scene import Scene\n",
    "from hothouse.scene_viz import CropRenderer\n",
    "import pythreejs\n",
    "import ipywidgets\n",
    "\n",
    "fname = PLANTS.fetch('fullSoy_2-12a.ply')\n",
    "p = hothouse.plant_model.PlantModel.from_ply(fname)\n",
    "s = Scene()\n",
    "s.add_component(p)\n",
    "\n",
    "rb = hothouse.OrthographicRayBlaster(center=np.array([0.0, -400, 450], dtype=\"f4\"),\n",
    "                                     forward=np.array([0.0, 1.0, 0.0], dtype=\"f4\"),\n",
    "                                     up=np.array([0, 0, 1.0], dtype=\"f4\"),\n",
    "                                     width=800, height=800, nx=1024, ny=1024)"
   ]
  },
  {
   "cell_type": "code",
   "execution_count": 3,
   "metadata": {},
   "outputs": [
    {
     "name": "stderr",
     "output_type": "stream",
     "text": [
      "/home/mturk/conda-py3/lib/python3.7/site-packages/traittypes/traittypes.py:101: UserWarning: Given trait value dtype \"float64\" does not match required type \"float32\". A coerced copy has been created.\n",
      "  np.dtype(self.dtype).name))\n"
     ]
    },
    {
     "data": {
      "application/vnd.jupyter.widget-view+json": {
       "model_id": "2e91f488ad044502b6353f45d0a5bf53",
       "version_major": 2,
       "version_minor": 0
      },
      "text/plain": [
       "Renderer(background='white', camera=PerspectiveCamera(children=(AmbientLight(quaternion=(0.0, 0.0, 0.0, 1.0), …"
      ]
     },
     "metadata": {},
     "output_type": "display_data"
    }
   ],
   "source": [
    "c = CropRenderer(base_scene = s, blaster = rb, width = 500, height = 500, colormap = \"viridis\")\n",
    "c.camera.far = 10000\n",
    "rb.annotate_rays(c)\n",
    "c.renderer"
   ]
  },
  {
   "cell_type": "code",
   "execution_count": null,
   "metadata": {},
   "outputs": [],
   "source": [
    "import matplotlib.pyplot as plt\n",
    "o = rb.compute_count(s)\n",
    "\n",
    "mycount = np.bincount(o['primID'][o['primID'] > -1], minlength = p.indices.shape[0])\n",
    "count_image = mycount[o['primID']].reshape((1024, 1024))\n",
    "plt.imshow(count_image)"
   ]
  }
 ],
 "metadata": {
  "kernelspec": {
   "display_name": "Python 3",
   "language": "python",
   "name": "python3"
  },
  "language_info": {
   "codemirror_mode": {
    "name": "ipython",
    "version": 3
   },
   "file_extension": ".py",
   "mimetype": "text/x-python",
   "name": "python",
   "nbconvert_exporter": "python",
   "pygments_lexer": "ipython3",
   "version": "3.7.6"
  }
 },
 "nbformat": 4,
 "nbformat_minor": 4
}
